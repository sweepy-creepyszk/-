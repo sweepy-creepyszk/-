{
 "cells": [
  {
   "cell_type": "markdown",
   "id": "744d1a2b",
   "metadata": {},
   "source": [
    "# pythonの基本構文"
   ]
  },
  {
   "cell_type": "markdown",
   "id": "60e6470c",
   "metadata": {},
   "source": [
    "## コメント\n",
    "行頭に「#」を書くことで行末までコメントとみなされる。"
   ]
  },
  {
   "cell_type": "code",
   "execution_count": 3,
   "id": "72e35e17",
   "metadata": {},
   "outputs": [
    {
     "name": "stdout",
     "output_type": "stream",
     "text": [
      "kota\n"
     ]
    }
   ],
   "source": [
    "#コメント\n",
    "print(\"kota\")"
   ]
  },
  {
   "cell_type": "markdown",
   "id": "fb6adeb8",
   "metadata": {},
   "source": [
    "# 文字列\n",
    "文字列はダブルクォーテーション「\"」または、シングルクォーテーション「'」で囲まれた文字は、プログラミングの世界で「文字列」と呼ぶ"
   ]
  },
  {
   "cell_type": "markdown",
   "id": "351a8e24",
   "metadata": {},
   "source": [
    "# 数値\n",
    "文字列と違い、クォーテーションで囲む必要がない。\n",
    "数字をクォーテーション及び、ダブルクォーテーションで囲むと文字列になるので注意"
   ]
  },
  {
   "cell_type": "code",
   "execution_count": 4,
   "id": "d7443727",
   "metadata": {},
   "outputs": [
    {
     "name": "stdout",
     "output_type": "stream",
     "text": [
      "10\n",
      "15\n",
      "3\n",
      "5.0\n",
      "0\n"
     ]
    }
   ],
   "source": [
    "print(10) # 数値はクォーテーションで囲む必要はありません。\n",
    "print(10 + 5) # 足している\n",
    "print(5 - 2)  # 引いている\n",
    "print(10 / 2)   # 割っている\n",
    "print(10 % 5)   # あまりを求めている"
   ]
  },
  {
   "cell_type": "markdown",
   "id": "68e96b41",
   "metadata": {},
   "source": [
    "# 変数\n",
    "値を保管しておくもの。名前を付けて使う。変数名は大文字と小文字は区別される。# 上記のように変数名はすべて小文字で2つ以上の単語をつなげる場合は下線(_)を使う。"
   ]
  },
  {
   "cell_type": "code",
   "execution_count": 6,
   "id": "d67d91fd",
   "metadata": {},
   "outputs": [
    {
     "name": "stdout",
     "output_type": "stream",
     "text": [
      "kota\n"
     ]
    }
   ],
   "source": [
    "suzuki=\"kota\"\n",
    "print(suzuki)"
   ]
  },
  {
   "cell_type": "markdown",
   "id": "6f2eecd7",
   "metadata": {},
   "source": [
    "# 定数\n",
    "定数は値が変えられない値。Pythonには定数を定義する構文がないため、定数的な意図を持って定義する場合には、すべて大文字で変数名を定義することが多い。"
   ]
  },
  {
   "cell_type": "markdown",
   "id": "09252470",
   "metadata": {},
   "source": [
    "# 予約語\n",
    "関数名や変数名に使用できない単語を予約語と呼ぶ。\n",
    "['False', 'None', 'True', 'and', 'as', 'assert', 'break', 'class', 'continue', 'def', 'del', 'elif', 'else', 'except', 'finally', 'for', 'from', 'global', 'if', 'import', 'in', 'is', 'lambda', 'nonlocal', 'not', 'or', 'pass', 'raise', 'return', 'try', 'while', 'with', 'yield']\n",
    "などが予約語にあたる。"
   ]
  },
  {
   "cell_type": "markdown",
   "id": "da47e24c",
   "metadata": {},
   "source": [
    "# データ型\n",
    "数値や文字列などはデータ型と呼ばれ整数型、文字列型、辞書型、リスト型のどがある。"
   ]
  },
  {
   "cell_type": "markdown",
   "id": "866ed107",
   "metadata": {},
   "source": [
    "# 数値型\n",
    "１）整数(int)\n",
    "２）小数・実数(float)\n",
    "３）複素数\n",
    "の3つがある。"
   ]
  },
  {
   "cell_type": "markdown",
   "id": "9bd5d7ff",
   "metadata": {},
   "source": [
    "# 型変換\n",
    "データ型の異なる文字列型と数値型を連結するとエラーが発生する。"
   ]
  },
  {
   "cell_type": "code",
   "execution_count": 7,
   "id": "1b898977",
   "metadata": {},
   "outputs": [
    {
     "name": "stdout",
     "output_type": "stream",
     "text": [
      "My name is kotaMy age is 16\n"
     ]
    }
   ],
   "source": [
    "name=\"kota\"\n",
    "age=16\n",
    "print(\"My name is \" + name + \"My age is \" + str(age))"
   ]
  },
  {
   "cell_type": "markdown",
   "id": "2ce8fd9f",
   "metadata": {},
   "source": [
    "数値型を文字列型に変換するにはstr()を使う。"
   ]
  },
  {
   "cell_type": "markdown",
   "id": "55a2228b",
   "metadata": {},
   "source": [
    "# リスト型\n",
    "変数は、1つのデータしか管理できませんでしたが、リスト型は複数のデータ(変数)を管理できる。\n",
    "listは 配列名 = [\"x\",\"y\",\"z\"] という形式で宣言する。\n",
    "リストの中身は左から数え始め、最初は1ではなく、0から数える。\n",
    "このリストの中身につけられた番号を添え字(そえじ)やインデックスなどと呼ぶ。\n",
    "append()を使うことで、listの末尾に要素を追加することができる。"
   ]
  },
  {
   "cell_type": "code",
   "execution_count": 8,
   "id": "89f51b9a",
   "metadata": {},
   "outputs": [
    {
     "name": "stdout",
     "output_type": "stream",
     "text": [
      "['aka']\n"
     ]
    }
   ],
   "source": [
    "li=[]\n",
    "li.append(\"aka\")\n",
    "print(li)"
   ]
  },
  {
   "cell_type": "markdown",
   "id": "9d5e3821",
   "metadata": {},
   "source": [
    "# 辞書型\n",
    "辞書型(ディクショナリー型）はKeyとValueのペアを保持するデータ型。"
   ]
  },
  {
   "cell_type": "markdown",
   "id": "272d6544",
   "metadata": {},
   "source": [
    "辞書名 = {\"キー\" : \"値\", ・・・} "
   ]
  },
  {
   "cell_type": "markdown",
   "id": "73c68a73",
   "metadata": {},
   "source": [
    "リスト型はインデックス番号が0から始まり0から順に値が格納されていましたが、辞書型は{}を使い囲う。\n",
    "リストはインデックス番号で値にアクセスできるのに対し、辞書型では任意のキー文字列で値にアクセスする。"
   ]
  },
  {
   "cell_type": "code",
   "execution_count": 10,
   "id": "7903177a",
   "metadata": {},
   "outputs": [
    {
     "name": "stdout",
     "output_type": "stream",
     "text": [
      "suzuki\n",
      "{'name': 'suzuki', 'age': '16', 'gender': 'male'}\n"
     ]
    }
   ],
   "source": [
    "profile = {\"name\": \"kasai\", \"age\": \"16\" }\n",
    "print(profile[\"name\"])\n",
    "\n",
    "# 新しく要素を追加\n",
    "profile[\"gender\"] = \"male\"\n",
    "\n",
    "# 新しく要素を追加した辞書型(profile)を出力\n",
    "print(profile)"
   ]
  },
  {
   "cell_type": "markdown",
   "id": "b9938ba8",
   "metadata": {},
   "source": [
    "# コードブロックとインデント\n",
    "Pythonではインデントで処理をまとめる。"
   ]
  },
  {
   "cell_type": "markdown",
   "id": "8844aadd",
   "metadata": {},
   "source": [
    "# 条件分岐 (if文)"
   ]
  },
  {
   "cell_type": "markdown",
   "id": "72f2a257",
   "metadata": {},
   "source": [
    "if 条件A:\n",
    "    条件AがTrueなら実行\n",
    "    \n",
    "elif 条件B:\n",
    "    条件AがFalseかつ条件BがTrueなら実行\n",
    "    \n",
    "else:\n",
    "    条件AもBもFalseなら実行"
   ]
  },
  {
   "attachments": {
    "image.png": {
     "image/png": "[encoded data removed]"
    }
   },
   "cell_type": "markdown",
   "id": "e1ab7e85",
   "metadata": {},
   "source": [
    "# 条件式の作り方\n",
    "条件式の中では、２つの値を比較するための記号「比較演算子」がよく使われる。\n",
    "![image.png](attachment:image.png)\n",
    "条件部分は、「if 条件式 :」のように書く。"
   ]
  },
  {
   "cell_type": "code",
   "execution_count": 11,
   "id": "760f46b5",
   "metadata": {},
   "outputs": [
    {
     "name": "stdout",
     "output_type": "stream",
     "text": [
      "合格です。おめでとう！\n",
      "不合格。もっと頑張りましょう。\n"
     ]
    }
   ],
   "source": [
    "score = 80\n",
    "if score > 78: # 比較演算子 > を使っています。\n",
    "    print(\"合格です。おめでとう！\")\n",
    "else:\n",
    "    print(\"不合格。もっと頑張りましょう。\")\n",
    "    \n",
    "    score = 100\n",
    "if score == 100:\n",
    "    print(\"満点‼\")\n",
    "elif score > 85:\n",
    "    print(\"合格！\")\n",
    "else:\n",
    "    print(\"不合格。もっと頑張りましょう。\")"
   ]
  },
  {
   "cell_type": "markdown",
   "id": "669c2e1f",
   "metadata": {},
   "source": [
    "# for文\n",
    "ループは複数回同じコードを実行するための制御構文。"
   ]
  },
  {
   "cell_type": "code",
   "execution_count": 12,
   "id": "cc1455c1",
   "metadata": {},
   "outputs": [
    {
     "name": "stdout",
     "output_type": "stream",
     "text": [
      "apple\n",
      "banana\n",
      "melon\n"
     ]
    }
   ],
   "source": [
    "# for ループ内変数 in リスト名:\n",
    "#     実行する処理\n",
    "\n",
    "for i in [\"apple\", \"banana\", \"melon\"]:\n",
    "    print(i)\n"
   ]
  },
  {
   "cell_type": "markdown",
   "id": "2f69daf9",
   "metadata": {},
   "source": [
    "for文で一定回数の繰り返し処理を行うにはrange()関数を用いる"
   ]
  },
  {
   "cell_type": "markdown",
   "id": "86251053",
   "metadata": {},
   "source": [
    "range(x): 0からx-1までの連番のリストを返す\n",
    "range(x,y): xからy-1までの連番のリストを返す"
   ]
  },
  {
   "cell_type": "code",
   "execution_count": 13,
   "id": "7647f1d4",
   "metadata": {},
   "outputs": [
    {
     "name": "stdout",
     "output_type": "stream",
     "text": [
      "0\n",
      "1\n",
      "2\n",
      "3\n",
      "4\n",
      "5\n",
      "6\n",
      "7\n",
      "8\n",
      "9\n"
     ]
    }
   ],
   "source": [
    "for i in range(10):\n",
    "    print(i)"
   ]
  },
  {
   "cell_type": "markdown",
   "id": "fe8a780e",
   "metadata": {},
   "source": [
    "リストの内容をインデックス番号とともに処理したい場合はenumerate()関数を使用する"
   ]
  },
  {
   "cell_type": "code",
   "execution_count": 14,
   "id": "c9127a2d",
   "metadata": {},
   "outputs": [
    {
     "name": "stdout",
     "output_type": "stream",
     "text": [
      "0 apple\n",
      "1 banana\n",
      "2 melon\n"
     ]
    }
   ],
   "source": [
    "for index, name in enumerate([\"apple\", \"banana\", \"melon\"]):\n",
    "    print(index, name)\n"
   ]
  },
  {
   "cell_type": "markdown",
   "id": "686004de",
   "metadata": {},
   "source": [
    "辞書型の場合もfor文で表せる"
   ]
  },
  {
   "cell_type": "code",
   "execution_count": 15,
   "id": "878c86e1",
   "metadata": {},
   "outputs": [
    {
     "name": "stdout",
     "output_type": "stream",
     "text": [
      "key: keion value: 26\n",
      "key: manken value: 8\n",
      "key: 2-5 value: 37\n"
     ]
    }
   ],
   "source": [
    "data = {\"keion\": 26, \"manken\": 8, \"2-5\": 37}\n",
    "for key, value in data.items():\n",
    "     print(\"key: {} value: {}\".format(key, value))\n"
   ]
  },
  {
   "cell_type": "markdown",
   "id": "811a7d03",
   "metadata": {},
   "source": [
    "# while文\n",
    "while文は、特定条件を満たすまでループを繰り返す。"
   ]
  },
  {
   "cell_type": "code",
   "execution_count": 16,
   "id": "3ca7f622",
   "metadata": {},
   "outputs": [
    {
     "name": "stdout",
     "output_type": "stream",
     "text": [
      "0\n",
      "1\n",
      "2\n",
      "3\n",
      "4\n",
      "5\n",
      "6\n",
      "7\n",
      "8\n",
      "9\n"
     ]
    }
   ],
   "source": [
    "# nが10になるまで繰り返し\n",
    "n = 0\n",
    "while n < 10:\n",
    "    print(n)\n",
    "    n += 1 # +1するのを忘れずに。"
   ]
  },
  {
   "cell_type": "markdown",
   "id": "881adb17",
   "metadata": {},
   "source": [
    "# リスト内包表記\n",
    "リスト内包表記(List Comprehensions)は既存のリストやジェネレータから新しいリストを作るもの。"
   ]
  },
  {
   "cell_type": "code",
   "execution_count": 17,
   "id": "10678351",
   "metadata": {},
   "outputs": [
    {
     "name": "stdout",
     "output_type": "stream",
     "text": [
      "[1, 4, 9, 16, 25, 36, 49, 64, 81, 100]\n"
     ]
    }
   ],
   "source": [
    "result = [x**2 for x in range(1,11)]\n",
    "print(result) # [1, 4, 9, 16, 25, 36, 49, 64, 81, 100]\n",
    "\n",
    "# 通常のループでは次のようになります。\n",
    "result = []\n",
    "for i in range(1,11):\n",
    "    result.append(i**2)"
   ]
  },
  {
   "cell_type": "markdown",
   "id": "fc968056",
   "metadata": {},
   "source": [
    "# 標準入力\n",
    "nput()を用いることで、ユーザからの入力を受け取ることが可能。"
   ]
  },
  {
   "cell_type": "code",
   "execution_count": 18,
   "id": "b70e9fd0",
   "metadata": {},
   "outputs": [
    {
     "name": "stdout",
     "output_type": "stream",
     "text": [
      "名前を入力してください\n",
      "河西\n",
      "あなたの名前は河西です\n"
     ]
    }
   ],
   "source": [
    "print(\"名前を入力してください\")\n",
    "name = input()\n",
    "print(\"あなたの名前は\"+name+\"です\")"
   ]
  },
  {
   "cell_type": "markdown",
   "id": "a5d02fe0",
   "metadata": {},
   "source": [
    "# 関数\n",
    "関数とはあるデータを受け取り、定められた独自の処理を実行し、その結果を返す命令のこと。\n",
    "関数には2種類あり、1つ目は独自関数、2つ目は標準関数（組み込み関数）。\n",
    "独自関数は、プログラマーが変数を作るのと同じように自由に名前と処理を考え、プログラマーが作ることもできる。"
   ]
  },
  {
   "cell_type": "markdown",
   "id": "c0d4a4e4",
   "metadata": {},
   "source": [
    "# 関数の定義\n",
    "関数を定義するためには、defというキーワードを使う。"
   ]
  },
  {
   "cell_type": "code",
   "execution_count": 21,
   "id": "644b04c1",
   "metadata": {},
   "outputs": [],
   "source": [
    "# 以下、hello()関数を定義したサンプルです。\n",
    "\n",
    "def hello():\n",
    "    print(\"hello!\")\n",
    "    "
   ]
  },
  {
   "cell_type": "markdown",
   "id": "157176ac",
   "metadata": {},
   "source": [
    "# 引数\n",
    "引数とは、関数を呼び出す際に関数に与える値のこと。\n",
    "1) 仮引数（関数の定義側で受け取る値）\n",
    "2) 実引数（関数の呼び出し側で与える値）\n",
    "の２種類がある。"
   ]
  },
  {
   "cell_type": "code",
   "execution_count": 23,
   "id": "35b5d0ef",
   "metadata": {},
   "outputs": [
    {
     "name": "stdout",
     "output_type": "stream",
     "text": [
      "こんにちは鈴木さん\n"
     ]
    }
   ],
   "source": [
    "def say_hello(name):\n",
    "    print(\"こんにちは\" + str(name) + \"さん\")\n",
    "\n",
    "say_hello(\"鈴木\")"
   ]
  },
  {
   "cell_type": "markdown",
   "id": "06664613",
   "metadata": {},
   "source": [
    "# 変数のスコープ\n",
    "変数はどこで作成したかによってスコープ（有効範囲）が違ってくる。"
   ]
  },
  {
   "cell_type": "code",
   "execution_count": null,
   "id": "0e90b9f9",
   "metadata": {},
   "outputs": [],
   "source": [
    "def add(x1):\n",
    "    x2 = 10 # 関数内で変数を作成(ローカル変数)\n",
    "    result = x1 + x2\n",
    "    print(result)\n",
    "\n",
    "add(5) # 5 + 10で15が出力\n",
    "print(x2) # ここでエラーが発生"
   ]
  },
  {
   "cell_type": "markdown",
   "id": "ba468ac8",
   "metadata": {},
   "source": [
    "x2は関数内だけでしか有効ではなく、関数外では機能しない。"
   ]
  },
  {
   "cell_type": "code",
   "execution_count": 24,
   "id": "3415dc6b",
   "metadata": {},
   "outputs": [
    {
     "name": "stdout",
     "output_type": "stream",
     "text": [
      "15\n"
     ]
    }
   ],
   "source": [
    "def add(x1,x2):\n",
    "    result = x1 + x2\n",
    "    return result\n",
    "\n",
    "x1 = 5\n",
    "x2 = 10\n",
    "result = add(x1, x2) # 5 + 10で15が出力\n",
    "print(result)"
   ]
  },
  {
   "cell_type": "code",
   "execution_count": null,
   "id": "6220b8f7",
   "metadata": {},
   "outputs": [],
   "source": []
  }
 ],
 "metadata": {
  "kernelspec": {
   "display_name": "Python 3 (ipykernel)",
   "language": "python",
   "name": "python3"
  },
  "language_info": {
   "codemirror_mode": {
    "name": "ipython",
    "version": 3
   },
   "file_extension": ".py",
   "mimetype": "text/x-python",
   "name": "python",
   "nbconvert_exporter": "python",
   "pygments_lexer": "ipython3",
   "version": "3.9.7"
  }
 },
 "nbformat": 4,
 "nbformat_minor": 5
}
