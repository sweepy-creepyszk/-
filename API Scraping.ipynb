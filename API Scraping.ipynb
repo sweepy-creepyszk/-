{
 "cells": [
  {
   "cell_type": "markdown",
   "id": "7acccebe",
   "metadata": {},
   "source": [
    "# APIとは\n",
    "APIとは Application Programming Interfaceの略。 ソフトウェアからOSの機能を利用するための仕様またはインターフェースの総称で、アプリケーションの開発を容易にするためのソフトウェア資源のことをいう。"
   ]
  },
  {
   "cell_type": "markdown",
   "id": "1c45c300",
   "metadata": {},
   "source": [
    "# API演習"
   ]
  },
  {
   "cell_type": "code",
   "execution_count": 15,
   "id": "11c27d4a",
   "metadata": {},
   "outputs": [
    {
     "name": "stdout",
     "output_type": "stream",
     "text": [
      "Requirement already satisfied: newsapi-python in c:\\users\\kouta\\anaconda3\\lib\\site-packages (0.2.6)\n",
      "Requirement already satisfied: requests<3.0.0 in c:\\users\\kouta\\anaconda3\\lib\\site-packages (from newsapi-python) (2.26.0)\n",
      "Requirement already satisfied: certifi>=2017.4.17 in c:\\users\\kouta\\anaconda3\\lib\\site-packages (from requests<3.0.0->newsapi-python) (2021.10.8)\n",
      "Requirement already satisfied: urllib3<1.27,>=1.21.1 in c:\\users\\kouta\\anaconda3\\lib\\site-packages (from requests<3.0.0->newsapi-python) (1.26.7)\n",
      "Requirement already satisfied: idna<4,>=2.5 in c:\\users\\kouta\\anaconda3\\lib\\site-packages (from requests<3.0.0->newsapi-python) (3.2)\n",
      "Requirement already satisfied: charset-normalizer~=2.0.0 in c:\\users\\kouta\\anaconda3\\lib\\site-packages (from requests<3.0.0->newsapi-python) (2.0.4)\n",
      "{'articles': [{'author': None,\n",
      "               'content': '83324100049134077123',\n",
      "               'description': '大阪府は8日、新たに3324人が新型コロナウイルスに感染していることが確認されたと発表しました。前の週の同じ曜日と比べて…',\n",
      "               'publishedAt': '2022-05-08T09:10:13Z',\n",
      "               'source': {'id': None, 'name': 'Nhk.or.jp'},\n",
      "               'title': '大阪府 新型コロナ 新たに3324人感染確認 - nhk.or.jp',\n",
      "               'url': 'https://www3.nhk.or.jp/news/html/20220508/k10013616251000.html',\n",
      "               'urlToImage': 'https://www3.nhk.or.jp/news/html/20220508/K10013616251_2205081753_0508181014_01_02.jpg'},\n",
      "              {'author': None,\n",
      "               'content': '81150026\\r\\n'\n",
      "                          '8101004711\\r\\n'\n",
      "                          '115002\\r\\n'\n",
      "                          '873182.975.1\\r\\n'\n",
      "                          '847112024.51156\\r\\n'\n",
      "                          '652755.8\\r\\n'\n",
      "                          'ECMO887\\r\\n'\n",
      "                          '70906',\n",
      "               'description': '東京都内の8日の感染確認は、1週間前の日曜日よりおよそ1500人増え、2日連続で前の週の同じ曜日を上回りました。また、都…',\n",
      "               'publishedAt': '2022-05-08T08:58:49Z',\n",
      "               'source': {'id': None, 'name': 'Nhk.or.jp'},\n",
      "               'title': '東京都 新型コロナ 6人死亡 4711人感染 2日連続で前週を上回る - nhk.or.jp',\n",
      "               'url': 'https://www3.nhk.or.jp/news/html/20220508/k10013615961000.html',\n",
      "               'urlToImage': 'https://www3.nhk.or.jp/news/html/20220508/K10013615961_2205081607_0508165020_01_02.jpg'},\n",
      "              {'author': None,\n",
      "               'content': None,\n",
      "               'description': '島根県と鳥取県は７日、それぞれ１３８人、１３４人が新型コロナウイルスに感染したと発表した。いずれも６日の確認分。松江市内の学校の部活動でクラスター（感染者集団）が確認された。  \\u3000'\n",
      "                              '島根県の居住地別は松…',\n",
      "               'publishedAt': '2022-05-07T19:00:00Z',\n",
      "               'source': {'id': None, 'name': 'Sanin-chuo.co.jp'},\n",
      "               'title': '島根１３８人、鳥取１３４人コロナ感染 松江で部活クラスター - 山陰中央新報社',\n",
      "               'url': 'https://www.sanin-chuo.co.jp/articles/-/204203',\n",
      "               'urlToImage': 'https://sanin-chuo.ismcdn.jp/mwimgs/4/9/-/img_4954b2ed4d388ce46e566461d4c6b64b616676.jpg'},\n",
      "              {'author': '日本放送協会',\n",
      "               'content': None,\n",
      "               'description': '県内では７日、合わせて５７８人が新型コロナウイルスに感染していることが新たに確認されたと発表されました。\\n'\n",
      "                              '先週の土曜日と比べて２７７人多く…',\n",
      "               'publishedAt': '2022-05-07T08:27:00Z',\n",
      "               'source': {'id': None, 'name': 'Nhk.or.jp'},\n",
      "               'title': '県内 新型コロナ新たに５７８人感染 ４割超が１０代以下｜NHK 長崎県のニュース - nhk.or.jp',\n",
      "               'url': 'https://www3.nhk.or.jp/lnews/nagasaki/20220507/5030014685.html',\n",
      "               'urlToImage': 'https://www3.nhk.or.jp/lnews/nagasaki/20220507/5030014685_20220507192436_m.jpg'},\n",
      "              {'author': '産経新聞',\n",
      "               'content': None,\n",
      "               'description': '【北京＝三塚聖平】ホンダは７日、中国市場における４月の新車販売台数が、前年同月比３６・３％減の９万５２１６台だったと発表した。新型コロナウイルスの感染拡大により上海市などでロックダウン（都市封鎖）が続',\n",
      "               'publishedAt': '2022-05-07T05:42:00Z',\n",
      "               'source': {'id': None, 'name': 'Livedoor.com'},\n",
      "               'title': 'ホンダ、4月の中国販売36％減 上海封鎖で供給網が混乱したことが影響 - ライブドアニュース - '\n",
      "                        'livedoor',\n",
      "               'url': 'https://news.livedoor.com/topics/detail/22124167/',\n",
      "               'urlToImage': 'https://image.news.livedoor.com/newsimage/stf/f/6/f61b3_368_17145a0cbdf5d6d0c860e96e981527dd.jpg'}],\n",
      " 'status': 'ok',\n",
      " 'totalResults': 5}\n"
     ]
    }
   ],
   "source": [
    "!pip install newsapi-python\n",
    "from newsapi import NewsApiClient    \n",
    "from pprint import pprint\n",
    "\n",
    "newsapi = NewsApiClient(api_key='18e8f132860b4fdb93f267e4aa9e1e2c')    \n",
    "\n",
    "top_headlines = newsapi.get_top_headlines(q='コロナ',language=None, country='jp')\n",
    "\n",
    "pprint(top_headlines)"
   ]
  },
  {
   "cell_type": "markdown",
   "id": "911dbbac",
   "metadata": {},
   "source": [
    "# webスクレイピング\n",
    "ウェブスクレイピングとは、ウェブサイトから情報を抽出するコンピュータソフトウェア技術のこと。"
   ]
  },
  {
   "cell_type": "markdown",
   "id": "ed094876",
   "metadata": {},
   "source": [
    "# webスクレイピング演習"
   ]
  },
  {
   "cell_type": "code",
   "execution_count": 29,
   "id": "955fd399",
   "metadata": {},
   "outputs": [],
   "source": [
    "from time import sleep\n",
    "import re\n",
    "from bs4 import BeautifulSoup\n",
    "import requests\n",
    "import pandas as pd\n",
    "\n",
    "url = 'https://suumo.jp/chintai/tokyo/sc_shinjuku/?page{}'\n",
    "\n",
    "\n"
   ]
  },
  {
   "cell_type": "code",
   "execution_count": 36,
   "id": "fc6ae5ca",
   "metadata": {},
   "outputs": [
    {
     "name": "stdout",
     "output_type": "stream",
     "text": [
      "d_listの大きさ： 0\n",
      "d_listの大きさ： 0\n",
      "d_listの大きさ： 0\n",
      "d_listの大きさ： 0\n"
     ]
    }
   ],
   "source": [
    "d_list = []\n",
    "\n",
    "for i in range(1, 5):\n",
    "    print('d_listの大きさ：', len(d_list))\n",
    "target_url=url.format(i)\n",
    "\n",
    "r=requests.get(target_url)\n",
    "\n",
    "soup=BeautifulSoup(r.text)\n",
    "\n",
    "contents=soup.find_all('div',class_=\"cassetteitem\")\n",
    "\n",
    "for content in contents:\n",
    "\n",
    "    detail=content.find('div',class_='cassetteitem-detail')\n",
    "\n",
    "    table=content.find('table',class_='cassetteitem_other')\n",
    "\n",
    "    title=detail.find('div',class_='cassetteitem_content-title').text\n",
    "\n",
    "    address=detail.find('li',class_='cassetteitem_detail-col1').text\n",
    "\n",
    "    access=detail.find('li',class_='cassetteitem_detail-col2').text\n",
    "\n",
    "    age=detail.find('li',class_='cassetteitem_detail-col3').text\n",
    "\n",
    "tr_tags=table.find_all('tr',class_=\"js-cassette_link\")\n",
    "\n",
    "for tr_tag in tr_tags:\n",
    "            \n",
    "            floor, price, first_fee, capacity = tr_tag.find_all('td')[2:6]\n",
    "            \n",
    "            fee, management_fee = price.find_all('li')\n",
    "            deposit, gratuity = first_fee.find_all('li')\n",
    "            madori, menseki = capacity.find_all('li')\n",
    "            \n",
    "            d = {\n",
    "                'title': title,\n",
    "                'address': address,\n",
    "                'access': access,\n",
    "                'age': age,\n",
    "                'floor': floor.text,\n",
    "                'fee': fee.text,\n",
    "                'management_fee': management_fee.text,\n",
    "                'deposit': deposit.text,\n",
    "                'gratuity': gratuity.text,\n",
    "                'madori': madori.text,\n",
    "                'menseki': menseki.text\n",
    "            }\n",
    "            \n",
    "            d_list.append(d)\n",
    "\n",
    "df = pd.DataFrame(d_list)\n",
    "\n",
    "df2 = df.applymap(lambda x: re.sub('\\n', ' ', x))\n",
    "\n",
    "df2.to_csv('test.csv', index=None, encoding='utf-8-sig')"
   ]
  }
 ],
 "metadata": {
  "kernelspec": {
   "display_name": "Python 3 (ipykernel)",
   "language": "python",
   "name": "python3"
  },
  "language_info": {
   "codemirror_mode": {
    "name": "ipython",
    "version": 3
   },
   "file_extension": ".py",
   "mimetype": "text/x-python",
   "name": "python",
   "nbconvert_exporter": "python",
   "pygments_lexer": "ipython3",
   "version": "3.9.7"
  }
 },
 "nbformat": 4,
 "nbformat_minor": 5
}
